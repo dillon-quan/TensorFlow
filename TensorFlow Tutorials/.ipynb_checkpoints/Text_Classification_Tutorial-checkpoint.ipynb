{
 "cells": [
  {
   "cell_type": "markdown",
   "metadata": {},
   "source": [
    "### TensorFlow Tutorial with IMDB Dataset\n",
    "\n",
    "This tutorial was taken from TensorFlow documentation website to learn the workings of the library. This example focuses on using Multi-Layer Perceptron Deep Learning model to classify movie reviews from the IMDB dataset to determine whether the review was good or bad."
   ]
  },
  {
   "cell_type": "code",
   "execution_count": 2,
   "metadata": {
    "colab": {
     "autoexec": {
      "startup": false,
      "wait_interval": 0
     },
     "base_uri": "https://localhost:8080/",
     "height": 34
    },
    "colab_type": "code",
    "executionInfo": {
     "elapsed": 322,
     "status": "ok",
     "timestamp": 1531333252175,
     "user": {
      "displayName": "Dillon Quan",
      "photoUrl": "https://lh3.googleusercontent.com/a/default-user=s128",
      "userId": "105434119590275754132"
     },
     "user_tz": 420
    },
    "id": "laH8V862j7Zu",
    "outputId": "19ba9c72-55e6-4901-e1b4-7d8981e57745"
   },
   "outputs": [
    {
     "name": "stdout",
     "output_type": "stream",
     "text": [
      "1.9.0-rc2\n"
     ]
    }
   ],
   "source": [
    "import tensorflow as tf\n",
    "from tensorflow import keras\n",
    "import numpy as np\n",
    "\n",
    "print(tf.__version__)"
   ]
  },
  {
   "cell_type": "code",
   "execution_count": 3,
   "metadata": {
    "colab": {
     "autoexec": {
      "startup": false,
      "wait_interval": 0
     },
     "base_uri": "https://localhost:8080/",
     "height": 68
    },
    "colab_type": "code",
    "executionInfo": {
     "elapsed": 34326,
     "status": "ok",
     "timestamp": 1531333393966,
     "user": {
      "displayName": "Dillon Quan",
      "photoUrl": "https://lh3.googleusercontent.com/a/default-user=s128",
      "userId": "105434119590275754132"
     },
     "user_tz": 420
    },
    "id": "Xiti6_kjksVX",
    "outputId": "ce61c537-d287-46da-a2e0-96ac09471e06"
   },
   "outputs": [
    {
     "name": "stdout",
     "output_type": "stream",
     "text": [
      "Downloading data from https://s3.amazonaws.com/text-datasets/imdb.npz\n",
      "17465344/17464789 [==============================] - 3s 0us/step\n",
      "17473536/17464789 [==============================] - 3s 0us/step\n"
     ]
    }
   ],
   "source": [
    "imdb = tf.keras.datasets.imdb\n",
    "(train_data, train_labels), (test_data, test_labels) = imdb.load_data(num_words = 10000)"
   ]
  },
  {
   "cell_type": "code",
   "execution_count": 5,
   "metadata": {
    "colab": {
     "autoexec": {
      "startup": false,
      "wait_interval": 0
     },
     "base_uri": "https://localhost:8080/",
     "height": 34
    },
    "colab_type": "code",
    "executionInfo": {
     "elapsed": 574,
     "status": "ok",
     "timestamp": 1531333504667,
     "user": {
      "displayName": "Dillon Quan",
      "photoUrl": "https://lh3.googleusercontent.com/a/default-user=s128",
      "userId": "105434119590275754132"
     },
     "user_tz": 420
    },
    "id": "xhoxjS39lLeq",
    "outputId": "92a66833-e17a-4547-f37a-bd958c5025a9"
   },
   "outputs": [
    {
     "name": "stdout",
     "output_type": "stream",
     "text": [
      "Training Entries: 25000, Training_labels: 25000\n"
     ]
    }
   ],
   "source": [
    "print('Training Entries: {}, Training_labels: {}'.format(len(train_data), len(train_labels)))"
   ]
  },
  {
   "cell_type": "code",
   "execution_count": 6,
   "metadata": {
    "colab": {
     "autoexec": {
      "startup": false,
      "wait_interval": 0
     },
     "base_uri": "https://localhost:8080/",
     "height": 54
    },
    "colab_type": "code",
    "executionInfo": {
     "elapsed": 287,
     "status": "ok",
     "timestamp": 1531333531700,
     "user": {
      "displayName": "Dillon Quan",
      "photoUrl": "https://lh3.googleusercontent.com/a/default-user=s128",
      "userId": "105434119590275754132"
     },
     "user_tz": 420
    },
    "id": "AuFjPCBJlsbU",
    "outputId": "db897d33-4da6-4e7c-f840-18ea94aa42ee"
   },
   "outputs": [
    {
     "name": "stdout",
     "output_type": "stream",
     "text": [
      "[1, 14, 22, 16, 43, 530, 973, 1622, 1385, 65, 458, 4468, 66, 3941, 4, 173, 36, 256, 5, 25, 100, 43, 838, 112, 50, 670, 2, 9, 35, 480, 284, 5, 150, 4, 172, 112, 167, 2, 336, 385, 39, 4, 172, 4536, 1111, 17, 546, 38, 13, 447, 4, 192, 50, 16, 6, 147, 2025, 19, 14, 22, 4, 1920, 4613, 469, 4, 22, 71, 87, 12, 16, 43, 530, 38, 76, 15, 13, 1247, 4, 22, 17, 515, 17, 12, 16, 626, 18, 2, 5, 62, 386, 12, 8, 316, 8, 106, 5, 4, 2223, 5244, 16, 480, 66, 3785, 33, 4, 130, 12, 16, 38, 619, 5, 25, 124, 51, 36, 135, 48, 25, 1415, 33, 6, 22, 12, 215, 28, 77, 52, 5, 14, 407, 16, 82, 2, 8, 4, 107, 117, 5952, 15, 256, 4, 2, 7, 3766, 5, 723, 36, 71, 43, 530, 476, 26, 400, 317, 46, 7, 4, 2, 1029, 13, 104, 88, 4, 381, 15, 297, 98, 32, 2071, 56, 26, 141, 6, 194, 7486, 18, 4, 226, 22, 21, 134, 476, 26, 480, 5, 144, 30, 5535, 18, 51, 36, 28, 224, 92, 25, 104, 4, 226, 65, 16, 38, 1334, 88, 12, 16, 283, 5, 16, 4472, 113, 103, 32, 15, 16, 5345, 19, 178, 32]\n"
     ]
    }
   ],
   "source": [
    "#each integer represents a word in the word_index dictionary\n",
    "print(train_data[0])"
   ]
  },
  {
   "cell_type": "code",
   "execution_count": 9,
   "metadata": {
    "colab": {
     "autoexec": {
      "startup": false,
      "wait_interval": 0
     },
     "base_uri": "https://localhost:8080/",
     "height": 68
    },
    "colab_type": "code",
    "executionInfo": {
     "elapsed": 2040,
     "status": "ok",
     "timestamp": 1531333796447,
     "user": {
      "displayName": "Dillon Quan",
      "photoUrl": "https://lh3.googleusercontent.com/a/default-user=s128",
      "userId": "105434119590275754132"
     },
     "user_tz": 420
    },
    "id": "WRNUHpWul1aZ",
    "outputId": "9d548914-b0e4-479d-fad5-c4e34bf81b3a"
   },
   "outputs": [
    {
     "name": "stdout",
     "output_type": "stream",
     "text": [
      "Downloading data from https://s3.amazonaws.com/text-datasets/imdb_word_index.json\n",
      "1646592/1641221 [==============================] - 1s 1us/step\n",
      "1654784/1641221 [==============================] - 1s 1us/step\n"
     ]
    }
   ],
   "source": [
    "word_index = imdb.get_word_index()"
   ]
  },
  {
   "cell_type": "code",
   "execution_count": 13,
   "metadata": {
    "colab": {
     "autoexec": {
      "startup": false,
      "wait_interval": 0
     },
     "base_uri": "https://localhost:8080/",
     "height": 17
    },
    "colab_type": "code",
    "collapsed": true,
    "executionInfo": {
     "elapsed": 807,
     "status": "ok",
     "timestamp": 1531334085160,
     "user": {
      "displayName": "Dillon Quan",
      "photoUrl": "https://lh3.googleusercontent.com/a/default-user=s128",
      "userId": "105434119590275754132"
     },
     "user_tz": 420
    },
    "id": "8399iRY3mXMw",
    "outputId": "13361c85-9220-4776-ff07-80c9ccec7839"
   },
   "outputs": [],
   "source": [
    "#because the dictionary key value pair is word by integer we need to reverse it such that its integers are the key and the word being the value\n",
    "reverse_word_index = dict([(value, key) for key, value in word_index.items()])"
   ]
  },
  {
   "cell_type": "code",
   "execution_count": 16,
   "metadata": {
    "colab": {
     "autoexec": {
      "startup": false,
      "wait_interval": 0
     },
     "base_uri": "https://localhost:8080/",
     "height": 17
    },
    "colab_type": "code",
    "collapsed": true,
    "executionInfo": {
     "elapsed": 386,
     "status": "ok",
     "timestamp": 1531334345892,
     "user": {
      "displayName": "Dillon Quan",
      "photoUrl": "https://lh3.googleusercontent.com/a/default-user=s128",
      "userId": "105434119590275754132"
     },
     "user_tz": 420
    },
    "id": "jxS4FxzWmDxO",
    "outputId": "1314fe6c-9a6c-4039-b1a3-41b0dd0878a8"
   },
   "outputs": [],
   "source": [
    "#this function helps us turn the integers in a review into words\n",
    "def decode_review(text):\n",
    "    return ' '.join([reverse_word_index.get(i, '?') for i in text])"
   ]
  },
  {
   "cell_type": "code",
   "execution_count": 18,
   "metadata": {
    "colab": {
     "autoexec": {
      "startup": false,
      "wait_interval": 0
     },
     "base_uri": "https://localhost:8080/",
     "height": 54
    },
    "colab_type": "code",
    "executionInfo": {
     "elapsed": 428,
     "status": "ok",
     "timestamp": 1531334369309,
     "user": {
      "displayName": "Dillon Quan",
      "photoUrl": "https://lh3.googleusercontent.com/a/default-user=s128",
      "userId": "105434119590275754132"
     },
     "user_tz": 420
    },
    "id": "sz0AutAgn-nU",
    "outputId": "41f889fb-dc1a-4287-ab7a-53cb37452bd9"
   },
   "outputs": [
    {
     "data": {
      "text/plain": [
       "u\"the as you with out themselves powerful lets loves their becomes reaching had journalist of lot from anyone to have after out atmosphere never more room and it so heart shows to years of every never going and help moments or of every chest visual movie except her was several of enough more with is now current film as you of mine potentially unfortunately of you than him that with out themselves her get for was camp of you movie sometimes movie that with scary but and to story wonderful that in seeing in character to of 70s musicians with heart had shadows they of here that with her serious to have does when from why what have critics they is you that isn't one will very to as itself with other and in of seen over landed for anyone of and br show's to whether from than out themselves history he name half some br of and odd was two most of mean for 1 any an boat she he should is thought frog but of script you not while history he heart to real at barrel but when from one bit then have two of script their with her nobody most that with wasn't to with armed acting watch an for with heartfelt film want an\""
      ]
     },
     "execution_count": 18,
     "metadata": {
      "tags": []
     },
     "output_type": "execute_result"
    }
   ],
   "source": [
    "decode_review(train_data[0])"
   ]
  },
  {
   "cell_type": "code",
   "execution_count": 25,
   "metadata": {
    "colab": {
     "autoexec": {
      "startup": false,
      "wait_interval": 0
     },
     "base_uri": "https://localhost:8080/",
     "height": 17
    },
    "colab_type": "code",
    "collapsed": true,
    "executionInfo": {
     "elapsed": 1184,
     "status": "ok",
     "timestamp": 1531334837094,
     "user": {
      "displayName": "Dillon Quan",
      "photoUrl": "https://lh3.googleusercontent.com/a/default-user=s128",
      "userId": "105434119590275754132"
     },
     "user_tz": 420
    },
    "id": "G02AqdUdpAiI",
    "outputId": "4219ebc3-9228-44e1-8fef-7a453e78a269"
   },
   "outputs": [],
   "source": [
    "#because each review varies in length, we pad zeroes onto the array to make each review to have the same length\n",
    "train_data = keras.preprocessing.sequence.pad_sequences(train_data,\n",
    "                                                        #value=word_index[\"<PAD>\"],\n",
    "                                                        padding='post',\n",
    "                                                        maxlen=256)\n",
    "\n",
    "test_data = keras.preprocessing.sequence.pad_sequences(test_data,\n",
    "                                                       #value=word_index[\"<PAD>\"],\n",
    "                                                       padding='post',\n",
    "                                                       maxlen=256)"
   ]
  },
  {
   "cell_type": "code",
   "execution_count": 27,
   "metadata": {
    "colab": {
     "autoexec": {
      "startup": false,
      "wait_interval": 0
     },
     "base_uri": "https://localhost:8080/",
     "height": 425
    },
    "colab_type": "code",
    "executionInfo": {
     "elapsed": 316,
     "status": "ok",
     "timestamp": 1531334854950,
     "user": {
      "displayName": "Dillon Quan",
      "photoUrl": "https://lh3.googleusercontent.com/a/default-user=s128",
      "userId": "105434119590275754132"
     },
     "user_tz": 420
    },
    "id": "zEoe1MIupiCo",
    "outputId": "ef2b63d8-46bd-4fa3-aec7-054bef808fce"
   },
   "outputs": [
    {
     "data": {
      "text/plain": [
       "array([   1,   14,   22,   16,   43,  530,  973, 1622, 1385,   65,  458,\n",
       "       4468,   66, 3941,    4,  173,   36,  256,    5,   25,  100,   43,\n",
       "        838,  112,   50,  670,    2,    9,   35,  480,  284,    5,  150,\n",
       "          4,  172,  112,  167,    2,  336,  385,   39,    4,  172, 4536,\n",
       "       1111,   17,  546,   38,   13,  447,    4,  192,   50,   16,    6,\n",
       "        147, 2025,   19,   14,   22,    4, 1920, 4613,  469,    4,   22,\n",
       "         71,   87,   12,   16,   43,  530,   38,   76,   15,   13, 1247,\n",
       "          4,   22,   17,  515,   17,   12,   16,  626,   18,    2,    5,\n",
       "         62,  386,   12,    8,  316,    8,  106,    5,    4, 2223, 5244,\n",
       "         16,  480,   66, 3785,   33,    4,  130,   12,   16,   38,  619,\n",
       "          5,   25,  124,   51,   36,  135,   48,   25, 1415,   33,    6,\n",
       "         22,   12,  215,   28,   77,   52,    5,   14,  407,   16,   82,\n",
       "          2,    8,    4,  107,  117, 5952,   15,  256,    4,    2,    7,\n",
       "       3766,    5,  723,   36,   71,   43,  530,  476,   26,  400,  317,\n",
       "         46,    7,    4,    2, 1029,   13,  104,   88,    4,  381,   15,\n",
       "        297,   98,   32, 2071,   56,   26,  141,    6,  194, 7486,   18,\n",
       "          4,  226,   22,   21,  134,  476,   26,  480,    5,  144,   30,\n",
       "       5535,   18,   51,   36,   28,  224,   92,   25,  104,    4,  226,\n",
       "         65,   16,   38, 1334,   88,   12,   16,  283,    5,   16, 4472,\n",
       "        113,  103,   32,   15,   16, 5345,   19,  178,   32,    0,    0,\n",
       "          0,    0,    0,    0,    0,    0,    0,    0,    0,    0,    0,\n",
       "          0,    0,    0,    0,    0,    0,    0,    0,    0,    0,    0,\n",
       "          0,    0,    0,    0,    0,    0,    0,    0,    0,    0,    0,\n",
       "          0,    0,    0], dtype=int32)"
      ]
     },
     "execution_count": 27,
     "metadata": {
      "tags": []
     },
     "output_type": "execute_result"
    }
   ],
   "source": [
    "#zeroes are now padded towards the end of the training data\n",
    "train_data[0]"
   ]
  },
  {
   "cell_type": "code",
   "execution_count": 29,
   "metadata": {
    "colab": {
     "autoexec": {
      "startup": false,
      "wait_interval": 0
     },
     "base_uri": "https://localhost:8080/",
     "height": 272
    },
    "colab_type": "code",
    "executionInfo": {
     "elapsed": 357,
     "status": "ok",
     "timestamp": 1531335430088,
     "user": {
      "displayName": "Dillon Quan",
      "photoUrl": "https://lh3.googleusercontent.com/a/default-user=s128",
      "userId": "105434119590275754132"
     },
     "user_tz": 420
    },
    "id": "7OkQ0Eq7q3PL",
    "outputId": "cdf8352e-3bf8-45c0-96a0-d251dd8d94a6"
   },
   "outputs": [
    {
     "name": "stdout",
     "output_type": "stream",
     "text": [
      "_________________________________________________________________\n",
      "Layer (type)                 Output Shape              Param #   \n",
      "=================================================================\n",
      "embedding (Embedding)        (None, None, 16)          160000    \n",
      "_________________________________________________________________\n",
      "global_average_pooling1d (Gl (None, 16)                0         \n",
      "_________________________________________________________________\n",
      "dense (Dense)                (None, 16)                272       \n",
      "_________________________________________________________________\n",
      "dense_1 (Dense)              (None, 1)                 17        \n",
      "=================================================================\n",
      "Total params: 160,289\n",
      "Trainable params: 160,289\n",
      "Non-trainable params: 0\n",
      "_________________________________________________________________\n"
     ]
    }
   ],
   "source": [
    "vocab_size = 10000\n",
    "\n",
    "model = keras.Sequential()\n",
    "\n",
    "model.add(keras.layers.Embedding(vocab_size, 16))\n",
    "model.add(keras.layers.GlobalAveragePooling1D())\n",
    "model.add(keras.layers.Dense(16, activation = 'relu'))\n",
    "model.add(keras.layers.Dense(1, activation = 'sigmoid'))\n",
    "\n",
    "model.summary()"
   ]
  },
  {
   "cell_type": "code",
   "execution_count": 30,
   "metadata": {
    "colab": {
     "autoexec": {
      "startup": false,
      "wait_interval": 0
     },
     "base_uri": "https://localhost:8080/",
     "height": 37
    },
    "colab_type": "code",
    "collapsed": true,
    "executionInfo": {
     "elapsed": 542,
     "status": "ok",
     "timestamp": 1531336300861,
     "user": {
      "displayName": "Dillon Quan",
      "photoUrl": "https://lh3.googleusercontent.com/a/default-user=s128",
      "userId": "105434119590275754132"
     },
     "user_tz": 420
    },
    "id": "Y6LjAttTtBf9",
    "outputId": "75e12326-f1e8-4b95-b0bf-c248fa6e1d8e"
   },
   "outputs": [],
   "source": [
    "model.compile(optimizer = 'adam', loss = 'binary_crossentropy', metrics = ['accuracy'])"
   ]
  },
  {
   "cell_type": "code",
   "execution_count": 31,
   "metadata": {
    "colab": {
     "autoexec": {
      "startup": false,
      "wait_interval": 0
     },
     "base_uri": "https://localhost:8080/",
     "height": 34
    },
    "colab_type": "code",
    "executionInfo": {
     "elapsed": 315,
     "status": "ok",
     "timestamp": 1531336346529,
     "user": {
      "displayName": "Dillon Quan",
      "photoUrl": "https://lh3.googleusercontent.com/a/default-user=s128",
      "userId": "105434119590275754132"
     },
     "user_tz": 420
    },
    "id": "W88mJps2wZay",
    "outputId": "f3967945-e2c4-49b4-a98d-dabe23a0cedd"
   },
   "outputs": [
    {
     "data": {
      "text/plain": [
       "(25000, 256)"
      ]
     },
     "execution_count": 31,
     "metadata": {
      "tags": []
     },
     "output_type": "execute_result"
    }
   ],
   "source": [
    "train_data.shape"
   ]
  },
  {
   "cell_type": "code",
   "execution_count": 34,
   "metadata": {
    "colab": {
     "autoexec": {
      "startup": false,
      "wait_interval": 0
     },
     "base_uri": "https://localhost:8080/",
     "height": 37
    },
    "colab_type": "code",
    "collapsed": true,
    "executionInfo": {
     "elapsed": 365,
     "status": "ok",
     "timestamp": 1531337286449,
     "user": {
      "displayName": "Dillon Quan",
      "photoUrl": "https://lh3.googleusercontent.com/a/default-user=s128",
      "userId": "105434119590275754132"
     },
     "user_tz": 420
    },
    "id": "pSJFM_itwkn0",
    "outputId": "76588e63-4ef8-4122-d63f-274efce203d1"
   },
   "outputs": [],
   "source": [
    "val = train_data[:10000]\n",
    "train = train_data[10000:]\n",
    "val_l= train_labels[:10000]\n",
    "train_l = train_labels[10000:]"
   ]
  },
  {
   "cell_type": "code",
   "execution_count": 35,
   "metadata": {
    "colab": {
     "autoexec": {
      "startup": false,
      "wait_interval": 0
     },
     "base_uri": "https://localhost:8080/",
     "height": 1465
    },
    "colab_type": "code",
    "executionInfo": {
     "elapsed": 34212,
     "status": "ok",
     "timestamp": 1531337333753,
     "user": {
      "displayName": "Dillon Quan",
      "photoUrl": "https://lh3.googleusercontent.com/a/default-user=s128",
      "userId": "105434119590275754132"
     },
     "user_tz": 420
    },
    "id": "-dR769tOxKYd",
    "outputId": "91be19b3-eb28-4236-96a2-781b982d4565"
   },
   "outputs": [
    {
     "name": "stderr",
     "output_type": "stream",
     "text": [
      "/usr/local/lib/python2.7/dist-packages/tensorflow/python/ops/gradients_impl.py:100: UserWarning: Converting sparse IndexedSlices to a dense Tensor of unknown shape. This may consume a large amount of memory.\n",
      "  \"Converting sparse IndexedSlices to a dense Tensor of unknown shape. \"\n"
     ]
    },
    {
     "name": "stdout",
     "output_type": "stream",
     "text": [
      "Train on 15000 samples, validate on 10000 samples\n",
      "Epoch 1/40\n",
      "15000/15000 [==============================] - 1s 73us/step - loss: 0.7018 - acc: 0.5085 - val_loss: 0.6921 - val_acc: 0.5061\n",
      "Epoch 2/40\n",
      "15000/15000 [==============================] - 1s 49us/step - loss: 0.6911 - acc: 0.5341 - val_loss: 0.6900 - val_acc: 0.5754\n",
      "Epoch 3/40\n",
      "15000/15000 [==============================] - 1s 53us/step - loss: 0.6883 - acc: 0.6365 - val_loss: 0.6876 - val_acc: 0.6043\n",
      "Epoch 4/40\n",
      "15000/15000 [==============================] - 1s 57us/step - loss: 0.6854 - acc: 0.6647 - val_loss: 0.6850 - val_acc: 0.5852\n",
      "Epoch 5/40\n",
      "15000/15000 [==============================] - 1s 57us/step - loss: 0.6819 - acc: 0.6535 - val_loss: 0.6809 - val_acc: 0.7273\n",
      "Epoch 6/40\n",
      "15000/15000 [==============================] - 1s 54us/step - loss: 0.6775 - acc: 0.7266 - val_loss: 0.6764 - val_acc: 0.7355\n",
      "Epoch 7/40\n",
      "15000/15000 [==============================] - 1s 54us/step - loss: 0.6719 - acc: 0.7339 - val_loss: 0.6711 - val_acc: 0.7130\n",
      "Epoch 8/40\n",
      "15000/15000 [==============================] - 1s 54us/step - loss: 0.6647 - acc: 0.7455 - val_loss: 0.6638 - val_acc: 0.7300\n",
      "Epoch 9/40\n",
      "15000/15000 [==============================] - 1s 54us/step - loss: 0.6558 - acc: 0.7607 - val_loss: 0.6543 - val_acc: 0.7539\n",
      "Epoch 10/40\n",
      "13824/15000 [==========================>...] - ETA: 0s - loss: 0.6445 - acc: 0.773815000/15000 [==============================] - 1s 56us/step - loss: 0.6444 - acc: 0.7715 - val_loss: 0.6426 - val_acc: 0.7587\n",
      "Epoch 11/40\n",
      "15000/15000 [==============================] - 1s 55us/step - loss: 0.6310 - acc: 0.7594 - val_loss: 0.6290 - val_acc: 0.7656\n",
      "Epoch 12/40\n",
      "15000/15000 [==============================] - 1s 52us/step - loss: 0.6142 - acc: 0.7815 - val_loss: 0.6126 - val_acc: 0.7702\n",
      "Epoch 13/40\n",
      "15000/15000 [==============================] - 1s 52us/step - loss: 0.5948 - acc: 0.7898 - val_loss: 0.5956 - val_acc: 0.7725\n",
      "Epoch 14/40\n",
      "15000/15000 [==============================] - 1s 53us/step - loss: 0.5736 - acc: 0.7955 - val_loss: 0.5746 - val_acc: 0.7841\n",
      "Epoch 15/40\n",
      "15000/15000 [==============================] - 1s 59us/step - loss: 0.5503 - acc: 0.8039 - val_loss: 0.5522 - val_acc: 0.7934\n",
      "Epoch 16/40\n",
      "15000/15000 [==============================] - 1s 56us/step - loss: 0.5262 - acc: 0.8129 - val_loss: 0.5302 - val_acc: 0.7967\n",
      "Epoch 17/40\n",
      "15000/15000 [==============================] - 1s 55us/step - loss: 0.5008 - acc: 0.8259 - val_loss: 0.5079 - val_acc: 0.8112\n",
      "Epoch 18/40\n",
      "15000/15000 [==============================] - 1s 53us/step - loss: 0.4760 - acc: 0.8377 - val_loss: 0.4856 - val_acc: 0.8182\n",
      "Epoch 19/40\n",
      "15000/15000 [==============================] - 1s 63us/step - loss: 0.4518 - acc: 0.8449 - val_loss: 0.4644 - val_acc: 0.8258\n",
      "Epoch 20/40\n",
      " 3584/15000 [======>.......................] - ETA: 0s - loss: 0.4312 - acc: 0.864115000/15000 [==============================] - 1s 55us/step - loss: 0.4289 - acc: 0.8537 - val_loss: 0.4446 - val_acc: 0.8313\n",
      "Epoch 21/40\n",
      "15000/15000 [==============================] - 1s 53us/step - loss: 0.4068 - acc: 0.8624 - val_loss: 0.4262 - val_acc: 0.8422\n",
      "Epoch 22/40\n",
      "15000/15000 [==============================] - 1s 52us/step - loss: 0.3867 - acc: 0.8683 - val_loss: 0.4096 - val_acc: 0.8450\n",
      "Epoch 23/40\n",
      "15000/15000 [==============================] - 1s 51us/step - loss: 0.3686 - acc: 0.8747 - val_loss: 0.3950 - val_acc: 0.8506\n",
      "Epoch 24/40\n",
      "15000/15000 [==============================] - 1s 50us/step - loss: 0.3518 - acc: 0.8800 - val_loss: 0.3819 - val_acc: 0.8560\n",
      "Epoch 25/40\n",
      "15000/15000 [==============================] - 1s 49us/step - loss: 0.3369 - acc: 0.8851 - val_loss: 0.3705 - val_acc: 0.8600\n",
      "Epoch 26/40\n",
      "15000/15000 [==============================] - 1s 53us/step - loss: 0.3234 - acc: 0.8876 - val_loss: 0.3606 - val_acc: 0.8630\n",
      "Epoch 27/40\n",
      "15000/15000 [==============================] - 1s 56us/step - loss: 0.3114 - acc: 0.8910 - val_loss: 0.3517 - val_acc: 0.8658\n",
      "Epoch 28/40\n",
      "15000/15000 [==============================] - 1s 55us/step - loss: 0.2999 - acc: 0.8943 - val_loss: 0.3439 - val_acc: 0.8696\n",
      "Epoch 29/40\n",
      "15000/15000 [==============================] - 1s 56us/step - loss: 0.2898 - acc: 0.8983 - val_loss: 0.3374 - val_acc: 0.8700\n",
      "Epoch 30/40\n",
      " 6144/15000 [===========>..................] - ETA: 0s - loss: 0.2761 - acc: 0.904115000/15000 [==============================] - 1s 59us/step - loss: 0.2812 - acc: 0.8991 - val_loss: 0.3313 - val_acc: 0.8725\n",
      "Epoch 31/40\n",
      "15000/15000 [==============================] - 1s 56us/step - loss: 0.2719 - acc: 0.9035 - val_loss: 0.3263 - val_acc: 0.8722\n",
      "Epoch 32/40\n",
      "15000/15000 [==============================] - 1s 56us/step - loss: 0.2645 - acc: 0.9053 - val_loss: 0.3216 - val_acc: 0.8750\n",
      "Epoch 33/40\n",
      "15000/15000 [==============================] - 1s 55us/step - loss: 0.2563 - acc: 0.9083 - val_loss: 0.3175 - val_acc: 0.8759\n",
      "Epoch 34/40\n",
      "15000/15000 [==============================] - 1s 59us/step - loss: 0.2493 - acc: 0.9108 - val_loss: 0.3139 - val_acc: 0.8771\n",
      "Epoch 35/40\n",
      "15000/15000 [==============================] - 1s 59us/step - loss: 0.2432 - acc: 0.9125 - val_loss: 0.3104 - val_acc: 0.8778\n",
      "Epoch 36/40\n",
      "15000/15000 [==============================] - 1s 57us/step - loss: 0.2362 - acc: 0.9153 - val_loss: 0.3076 - val_acc: 0.8784\n",
      "Epoch 37/40\n",
      "15000/15000 [==============================] - 1s 58us/step - loss: 0.2303 - acc: 0.9179 - val_loss: 0.3050 - val_acc: 0.8784\n",
      "Epoch 38/40\n",
      "15000/15000 [==============================] - 1s 60us/step - loss: 0.2246 - acc: 0.9193 - val_loss: 0.3022 - val_acc: 0.8797\n",
      "Epoch 39/40\n",
      "11264/15000 [=====================>........] - ETA: 0s - loss: 0.2183 - acc: 0.922215000/15000 [==============================] - 1s 58us/step - loss: 0.2188 - acc: 0.9219 - val_loss: 0.3000 - val_acc: 0.8806\n",
      "Epoch 40/40\n",
      "15000/15000 [==============================] - 1s 57us/step - loss: 0.2136 - acc: 0.9238 - val_loss: 0.2979 - val_acc: 0.8809\n"
     ]
    },
    {
     "data": {
      "text/plain": [
       "<tensorflow.python.keras.callbacks.History at 0x7f0754a5d890>"
      ]
     },
     "execution_count": 35,
     "metadata": {
      "tags": []
     },
     "output_type": "execute_result"
    }
   ],
   "source": [
    "model.fit(train, train_l, epochs = 40, batch_size = 512, validation_data = (val, val_l), verbose = 1)"
   ]
  },
  {
   "cell_type": "code",
   "execution_count": 36,
   "metadata": {
    "colab": {
     "autoexec": {
      "startup": false,
      "wait_interval": 0
     },
     "base_uri": "https://localhost:8080/",
     "height": 51
    },
    "colab_type": "code",
    "executionInfo": {
     "elapsed": 1104,
     "status": "ok",
     "timestamp": 1531337355073,
     "user": {
      "displayName": "Dillon Quan",
      "photoUrl": "https://lh3.googleusercontent.com/a/default-user=s128",
      "userId": "105434119590275754132"
     },
     "user_tz": 420
    },
    "id": "sbLLnVbmz2uy",
    "outputId": "3dbf2b07-d773-41c1-ffe1-b4da576f0525"
   },
   "outputs": [
    {
     "name": "stdout",
     "output_type": "stream",
     "text": [
      "25000/25000 [==============================] - 1s 35us/step\n",
      "[0.3113433217525482, 0.87196]\n"
     ]
    }
   ],
   "source": [
    "results = model.evaluate(test_data, test_labels)\n",
    "\n",
    "print(results)"
   ]
  },
  {
   "cell_type": "code",
   "execution_count": 40,
   "metadata": {
    "colab": {
     "autoexec": {
      "startup": false,
      "wait_interval": 0
     },
     "base_uri": "https://localhost:8080/",
     "height": 17
    },
    "colab_type": "code",
    "collapsed": true,
    "executionInfo": {
     "elapsed": 358,
     "status": "ok",
     "timestamp": 1531337538159,
     "user": {
      "displayName": "Dillon Quan",
      "photoUrl": "https://lh3.googleusercontent.com/a/default-user=s128",
      "userId": "105434119590275754132"
     },
     "user_tz": 420
    },
    "id": "If07S8AN0ap3",
    "outputId": "c12a5a19-32a4-406a-cfa5-d25dc7a1c562"
   },
   "outputs": [],
   "source": [
    "history_dict = model.history"
   ]
  },
  {
   "cell_type": "code",
   "execution_count": 44,
   "metadata": {
    "colab": {
     "autoexec": {
      "startup": false,
      "wait_interval": 0
     },
     "base_uri": "https://localhost:8080/",
     "height": 37
    },
    "colab_type": "code",
    "collapsed": true,
    "executionInfo": {
     "elapsed": 507,
     "status": "ok",
     "timestamp": 1531337697858,
     "user": {
      "displayName": "Dillon Quan",
      "photoUrl": "https://lh3.googleusercontent.com/a/default-user=s128",
      "userId": "105434119590275754132"
     },
     "user_tz": 420
    },
    "id": "TtZnt5RM07fc",
    "outputId": "411c13c5-eb72-48d3-ad3c-f1fdcd97d2e7"
   },
   "outputs": [],
   "source": [
    "#model.fit returns a history object that allows you to see what happened during training\n",
    "acc = history_dict.history['acc']\n",
    "val_acc = history_dict.history['val_acc']\n",
    "loss = history_dict.history['loss']\n",
    "val_loss = history_dict.history['val_loss']"
   ]
  },
  {
   "cell_type": "code",
   "execution_count": 50,
   "metadata": {
    "colab": {
     "autoexec": {
      "startup": false,
      "wait_interval": 0
     },
     "base_uri": "https://localhost:8080/",
     "height": 37
    },
    "colab_type": "code",
    "collapsed": true,
    "executionInfo": {
     "elapsed": 314,
     "status": "ok",
     "timestamp": 1531338062161,
     "user": {
      "displayName": "Dillon Quan",
      "photoUrl": "https://lh3.googleusercontent.com/a/default-user=s128",
      "userId": "105434119590275754132"
     },
     "user_tz": 420
    },
    "id": "aTIWS7vu1JKG",
    "outputId": "08c5c776-1572-416c-e659-124f650393b3"
   },
   "outputs": [],
   "source": [
    "epochs = range(1,len(acc)+1)"
   ]
  },
  {
   "cell_type": "code",
   "execution_count": 51,
   "metadata": {
    "colab": {
     "autoexec": {
      "startup": false,
      "wait_interval": 0
     },
     "base_uri": "https://localhost:8080/",
     "height": 311
    },
    "colab_type": "code",
    "executionInfo": {
     "elapsed": 612,
     "status": "ok",
     "timestamp": 1531338063543,
     "user": {
      "displayName": "Dillon Quan",
      "photoUrl": "https://lh3.googleusercontent.com/a/default-user=s128",
      "userId": "105434119590275754132"
     },
     "user_tz": 420
    },
    "id": "9PyQo_Yv2OQn",
    "outputId": "c0744e00-c621-498d-edc0-1e201f934ceb"
   },
   "outputs": [
    {
     "data": {
      "text/plain": [
       "<matplotlib.legend.Legend at 0x7f0754c47950>"
      ]
     },
     "execution_count": 51,
     "metadata": {
      "tags": []
     },
     "output_type": "execute_result"
    },
    {
     "data": {
      "image/png": "[encoded data removed]",
      "text/plain": [
       "<matplotlib.figure.Figure at 0x7f07554628d0>"
      ]
     },
     "metadata": {
      "tags": []
     },
     "output_type": "display_data"
    }
   ],
   "source": [
    "%matplotlib inline\n",
    "import matplotlib.pyplot as plt\n",
    "\n",
    "plt.plot(epochs, acc, marker = 'o', color = 'b', label = 'Training Accuracy')\n",
    "plt.plot(epochs, val_acc, color = 'b', label = 'Validation Accuracy')\n",
    "plt.title('Accuracy')\n",
    "plt.xlabel('Epochs')\n",
    "plt.ylabel('Accuracy')\n",
    "plt.legend()"
   ]
  },
  {
   "cell_type": "code",
   "execution_count": 52,
   "metadata": {
    "colab": {
     "autoexec": {
      "startup": false,
      "wait_interval": 0
     },
     "base_uri": "https://localhost:8080/",
     "height": 311
    },
    "colab_type": "code",
    "executionInfo": {
     "elapsed": 451,
     "status": "ok",
     "timestamp": 1531338159313,
     "user": {
      "displayName": "Dillon Quan",
      "photoUrl": "https://lh3.googleusercontent.com/a/default-user=s128",
      "userId": "105434119590275754132"
     },
     "user_tz": 420
    },
    "id": "CpVC58553AML",
    "outputId": "07e2ad0a-2c75-4903-87b5-b2f08850dca8"
   },
   "outputs": [
    {
     "data": {
      "text/plain": [
       "<matplotlib.legend.Legend at 0x7f0754cdff90>"
      ]
     },
     "execution_count": 52,
     "metadata": {
      "tags": []
     },
     "output_type": "execute_result"
    },
    {
     "data": {
      "image/png": "[encoded data removed]",
      "text/plain": [
       "<matplotlib.figure.Figure at 0x7f0754c12490>"
      ]
     },
     "metadata": {
      "tags": []
     },
     "output_type": "display_data"
    }
   ],
   "source": [
    "plt.plot(epochs, loss, marker = 'o', color = 'g', label = 'Training Loss')\n",
    "plt.plot(epochs, val_loss, color = 'g', label = 'Validation Loss')\n",
    "plt.title('Loss')\n",
    "plt.xlabel('Epochs')\n",
    "plt.ylabel('Loss')\n",
    "plt.legend()"
   ]
  },
  {
   "cell_type": "code",
   "execution_count": 0,
   "metadata": {
    "colab": {
     "autoexec": {
      "startup": false,
      "wait_interval": 0
     }
    },
    "colab_type": "code",
    "collapsed": true,
    "id": "RjpJuUK63fKa"
   },
   "outputs": [],
   "source": []
  }
 ],
 "metadata": {
  "colab": {
   "collapsed_sections": [],
   "default_view": {},
   "name": "Text Classification Tutorial.ipynb",
   "provenance": [],
   "version": "0.3.2",
   "views": {}
  },
  "kernelspec": {
   "display_name": "Python 3",
   "language": "python",
   "name": "python3"
  },
  "language_info": {
   "codemirror_mode": {
    "name": "ipython",
    "version": 3
   },
   "file_extension": ".py",
   "mimetype": "text/x-python",
   "name": "python",
   "nbconvert_exporter": "python",
   "pygments_lexer": "ipython3",
   "version": "3.6.1"
  }
 },
 "nbformat": 4,
 "nbformat_minor": 1
}
