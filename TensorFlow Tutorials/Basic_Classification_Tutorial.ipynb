{
 "cells": [
  {
   "cell_type": "markdown",
   "metadata": {},
   "source": [
    "### TensorFlow Tuturial on the MNIST Fahsion Dataset\n",
    "\n",
    "This tutorial was taken from TensorFlow documentation website to learn the workings of the library. This example focuses on using Multi-Layer Perceptron Deep Learning model to classify clothing images to their respective labels."
   ]
  },
  {
   "cell_type": "code",
   "execution_count": 2,
   "metadata": {
    "colab": {
     "autoexec": {
      "startup": false,
      "wait_interval": 0
     },
     "base_uri": "https://localhost:8080/",
     "height": 37
    },
    "colab_type": "code",
    "collapsed": true,
    "executionInfo": {
     "elapsed": 7623,
     "status": "ok",
     "timestamp": 1531331357852,
     "user": {
      "displayName": "Dillon Quan",
      "photoUrl": "https://lh3.googleusercontent.com/a/default-user=s128",
      "userId": "105434119590275754132"
     },
     "user_tz": 420
    },
    "id": "RcPJymuoL-gK",
    "outputId": "5d9bf30e-fd66-4401-dd33-b6097bf5d3dc"
   },
   "outputs": [],
   "source": [
    "import tensorflow as tf\n",
    "from tensorflow import keras"
   ]
  },
  {
   "cell_type": "code",
   "execution_count": 3,
   "metadata": {
    "colab": {
     "autoexec": {
      "startup": false,
      "wait_interval": 0
     },
     "base_uri": "https://localhost:8080/",
     "height": 34
    },
    "colab_type": "code",
    "executionInfo": {
     "elapsed": 334,
     "status": "ok",
     "timestamp": 1531331359288,
     "user": {
      "displayName": "Dillon Quan",
      "photoUrl": "https://lh3.googleusercontent.com/a/default-user=s128",
      "userId": "105434119590275754132"
     },
     "user_tz": 420
    },
    "id": "kbiGvgecM13q",
    "outputId": "24d07c28-f4c3-4fd5-da98-386852dbd937"
   },
   "outputs": [
    {
     "name": "stdout",
     "output_type": "stream",
     "text": [
      "1.9.0-rc2\n"
     ]
    }
   ],
   "source": [
    "import numpy as np\n",
    "import matplotlib.pyplot as plt\n",
    "print(tf.__version__)"
   ]
  },
  {
   "cell_type": "code",
   "execution_count": 4,
   "metadata": {
    "colab": {
     "autoexec": {
      "startup": false,
      "wait_interval": 0
     },
     "base_uri": "https://localhost:8080/",
     "height": 37
    },
    "colab_type": "code",
    "collapsed": true,
    "executionInfo": {
     "elapsed": 267,
     "status": "ok",
     "timestamp": 1531331361551,
     "user": {
      "displayName": "Dillon Quan",
      "photoUrl": "https://lh3.googleusercontent.com/a/default-user=s128",
      "userId": "105434119590275754132"
     },
     "user_tz": 420
    },
    "id": "fDUa6vsHVKWm",
    "outputId": "06f8d1b5-7982-4097-893c-bdf1f43ff5e0"
   },
   "outputs": [],
   "source": [
    "fashion_mnist = keras.datasets.fashion_mnist"
   ]
  },
  {
   "cell_type": "code",
   "execution_count": 6,
   "metadata": {
    "colab": {
     "autoexec": {
      "startup": false,
      "wait_interval": 0
     },
     "base_uri": "https://localhost:8080/",
     "height": 34
    },
    "colab_type": "code",
    "executionInfo": {
     "elapsed": 230,
     "status": "ok",
     "timestamp": 1531278966557,
     "user": {
      "displayName": "Dillon Quan",
      "photoUrl": "https://lh3.googleusercontent.com/a/default-user=s128",
      "userId": "105434119590275754132"
     },
     "user_tz": 420
    },
    "id": "RTaT6m5lVjwY",
    "outputId": "dadeb9c8-94f8-40f9-c707-95e8efe59943"
   },
   "outputs": [
    {
     "data": {
      "text/plain": [
       "module"
      ]
     },
     "execution_count": 6,
     "metadata": {
      "tags": []
     },
     "output_type": "execute_result"
    }
   ],
   "source": [
    "type(fashion_mnist)"
   ]
  },
  {
   "cell_type": "code",
   "execution_count": 5,
   "metadata": {
    "colab": {
     "autoexec": {
      "startup": false,
      "wait_interval": 0
     },
     "base_uri": "https://localhost:8080/",
     "height": 153
    },
    "colab_type": "code",
    "executionInfo": {
     "elapsed": 10800,
     "status": "ok",
     "timestamp": 1531331382812,
     "user": {
      "displayName": "Dillon Quan",
      "photoUrl": "https://lh3.googleusercontent.com/a/default-user=s128",
      "userId": "105434119590275754132"
     },
     "user_tz": 420
    },
    "id": "-tBD2eSvVmG_",
    "outputId": "c29cf860-ccd7-4b23-ee63-0e9436ebdc7b"
   },
   "outputs": [
    {
     "name": "stdout",
     "output_type": "stream",
     "text": [
      "Downloading data from http://fashion-mnist.s3-website.eu-central-1.amazonaws.com/train-labels-idx1-ubyte.gz\n",
      "32768/29515 [=================================] - 0s 3us/step\n",
      "Downloading data from http://fashion-mnist.s3-website.eu-central-1.amazonaws.com/train-images-idx3-ubyte.gz\n",
      "26427392/26421880 [==============================] - 5s 0us/step\n",
      "Downloading data from http://fashion-mnist.s3-website.eu-central-1.amazonaws.com/t10k-labels-idx1-ubyte.gz\n",
      "8192/5148 [===============================================] - 0s 0us/step\n",
      "Downloading data from http://fashion-mnist.s3-website.eu-central-1.amazonaws.com/t10k-images-idx3-ubyte.gz\n",
      "4423680/4422102 [==============================] - 3s 1us/step\n"
     ]
    }
   ],
   "source": [
    "(train_images, train_labels), (test_images, test_labels) = fashion_mnist.load_data()"
   ]
  },
  {
   "cell_type": "code",
   "execution_count": 6,
   "metadata": {
    "colab": {
     "autoexec": {
      "startup": false,
      "wait_interval": 0
     },
     "base_uri": "https://localhost:8080/",
     "height": 34
    },
    "colab_type": "code",
    "executionInfo": {
     "elapsed": 280,
     "status": "ok",
     "timestamp": 1531331384729,
     "user": {
      "displayName": "Dillon Quan",
      "photoUrl": "https://lh3.googleusercontent.com/a/default-user=s128",
      "userId": "105434119590275754132"
     },
     "user_tz": 420
    },
    "id": "r6dWQqJ5V5KE",
    "outputId": "3bd3bb0c-c1b2-4013-a28a-9f38e9e94964"
   },
   "outputs": [
    {
     "data": {
      "text/plain": [
       "((60000, 28, 28), (60000,))"
      ]
     },
     "execution_count": 6,
     "metadata": {
      "tags": []
     },
     "output_type": "execute_result"
    }
   ],
   "source": [
    "train_images.shape, train_labels.shape"
   ]
  },
  {
   "cell_type": "code",
   "execution_count": 7,
   "metadata": {
    "colab": {
     "autoexec": {
      "startup": false,
      "wait_interval": 0
     },
     "base_uri": "https://localhost:8080/",
     "height": 34
    },
    "colab_type": "code",
    "executionInfo": {
     "elapsed": 365,
     "status": "ok",
     "timestamp": 1531331389116,
     "user": {
      "displayName": "Dillon Quan",
      "photoUrl": "https://lh3.googleusercontent.com/a/default-user=s128",
      "userId": "105434119590275754132"
     },
     "user_tz": 420
    },
    "id": "BMbTWF1AWQId",
    "outputId": "9dcf8857-d639-4725-f692-4bdbd093be43"
   },
   "outputs": [
    {
     "data": {
      "text/plain": [
       "((10000, 28, 28), (10000,))"
      ]
     },
     "execution_count": 7,
     "metadata": {
      "tags": []
     },
     "output_type": "execute_result"
    }
   ],
   "source": [
    "test_images.shape, test_labels.shape"
   ]
  },
  {
   "cell_type": "code",
   "execution_count": 8,
   "metadata": {
    "colab": {
     "autoexec": {
      "startup": false,
      "wait_interval": 0
     },
     "base_uri": "https://localhost:8080/",
     "height": 37
    },
    "colab_type": "code",
    "collapsed": true,
    "executionInfo": {
     "elapsed": 293,
     "status": "ok",
     "timestamp": 1531331392303,
     "user": {
      "displayName": "Dillon Quan",
      "photoUrl": "https://lh3.googleusercontent.com/a/default-user=s128",
      "userId": "105434119590275754132"
     },
     "user_tz": 420
    },
    "id": "lnlEkYS1WjX1",
    "outputId": "3194bb3c-93a2-4ebe-8027-36e7a2976a30"
   },
   "outputs": [],
   "source": [
    "class_names = ['T-shirt/top', 'Trouser', 'Pullover', 'Dress', 'Coat', 'Sandal', 'Shirt', 'Sneaker', 'Bag', 'Ankle boot']"
   ]
  },
  {
   "cell_type": "code",
   "execution_count": 9,
   "metadata": {
    "colab": {
     "autoexec": {
      "startup": false,
      "wait_interval": 0
     },
     "base_uri": "https://localhost:8080/",
     "height": 34
    },
    "colab_type": "code",
    "executionInfo": {
     "elapsed": 335,
     "status": "ok",
     "timestamp": 1531331394010,
     "user": {
      "displayName": "Dillon Quan",
      "photoUrl": "https://lh3.googleusercontent.com/a/default-user=s128",
      "userId": "105434119590275754132"
     },
     "user_tz": 420
    },
    "id": "giYzFXSXXNqJ",
    "outputId": "b68c6830-395f-451f-e6b8-fa473c234e54"
   },
   "outputs": [
    {
     "data": {
      "text/plain": [
       "array([9, 0, 0, ..., 3, 0, 5], dtype=uint8)"
      ]
     },
     "execution_count": 9,
     "metadata": {
      "tags": []
     },
     "output_type": "execute_result"
    }
   ],
   "source": [
    "train_labels"
   ]
  },
  {
   "cell_type": "code",
   "execution_count": 10,
   "metadata": {
    "colab": {
     "autoexec": {
      "startup": false,
      "wait_interval": 0
     },
     "base_uri": "https://localhost:8080/",
     "height": 347
    },
    "colab_type": "code",
    "executionInfo": {
     "elapsed": 509,
     "status": "ok",
     "timestamp": 1531331395221,
     "user": {
      "displayName": "Dillon Quan",
      "photoUrl": "https://lh3.googleusercontent.com/a/default-user=s128",
      "userId": "105434119590275754132"
     },
     "user_tz": 420
    },
    "id": "bfQQUuDMXVRt",
    "outputId": "e32686f2-7649-4847-aeeb-69ead3ce8778"
   },
   "outputs": [
    {
     "data": {
      "image/png": "[encoded data removed]",
      "text/plain": [
       "<matplotlib.figure.Figure at 0x7f06d9a81390>"
      ]
     },
     "metadata": {
      "tags": []
     },
     "output_type": "display_data"
    }
   ],
   "source": [
    "plt.figure()\n",
    "plt.imshow(train_images[0])\n",
    "plt.colorbar()\n",
    "plt.gca().grid(False)"
   ]
  },
  {
   "cell_type": "code",
   "execution_count": 11,
   "metadata": {
    "colab": {
     "autoexec": {
      "startup": false,
      "wait_interval": 0
     },
     "base_uri": "https://localhost:8080/",
     "height": 37
    },
    "colab_type": "code",
    "collapsed": true,
    "executionInfo": {
     "elapsed": 666,
     "status": "ok",
     "timestamp": 1531331398902,
     "user": {
      "displayName": "Dillon Quan",
      "photoUrl": "https://lh3.googleusercontent.com/a/default-user=s128",
      "userId": "105434119590275754132"
     },
     "user_tz": 420
    },
    "id": "6izVBzUPYBlC",
    "outputId": "25859155-b293-4799-a2a6-d1cfb911b8bf"
   },
   "outputs": [],
   "source": [
    "#The tutorial wants to scale the entries from 0 - 1 instead of 1 - 255. Try it later when its not scaled\n",
    "train_images = train_images / 255.0\n",
    "\n",
    "test_images = test_images / 255.0"
   ]
  },
  {
   "cell_type": "code",
   "execution_count": 12,
   "metadata": {
    "colab": {
     "autoexec": {
      "startup": false,
      "wait_interval": 0
     },
     "base_uri": "https://localhost:8080/",
     "height": 589
    },
    "colab_type": "code",
    "executionInfo": {
     "elapsed": 1770,
     "status": "ok",
     "timestamp": 1531331402316,
     "user": {
      "displayName": "Dillon Quan",
      "photoUrl": "https://lh3.googleusercontent.com/a/default-user=s128",
      "userId": "105434119590275754132"
     },
     "user_tz": 420
    },
    "id": "g4w5coMOYU5s",
    "outputId": "98e9d3e6-8dd7-4105-dde0-0f11877e2aa5"
   },
   "outputs": [
    {
     "data": {
      "image/png": "[encoded data removed]",
      "text/plain": [
       "<matplotlib.figure.Figure at 0x7f069641e5c0>"
      ]
     },
     "metadata": {
      "tags": []
     },
     "output_type": "display_data"
    }
   ],
   "source": [
    "%matplotlib inline\n",
    "\n",
    "plt.figure(figsize=(10,10))\n",
    "for i in range(25):\n",
    "  plt.subplot(5,5, i + 1)\n",
    "  plt.imshow(train_images[i])\n",
    "  plt.xticks([])\n",
    "  plt.yticks([])\n",
    "  plt.xlabel(class_names[train_labels[i]])"
   ]
  },
  {
   "cell_type": "code",
   "execution_count": 15,
   "metadata": {
    "colab": {
     "autoexec": {
      "startup": false,
      "wait_interval": 0
     },
     "base_uri": "https://localhost:8080/",
     "height": 34
    },
    "colab_type": "code",
    "executionInfo": {
     "elapsed": 340,
     "status": "ok",
     "timestamp": 1531331434531,
     "user": {
      "displayName": "Dillon Quan",
      "photoUrl": "https://lh3.googleusercontent.com/a/default-user=s128",
      "userId": "105434119590275754132"
     },
     "user_tz": 420
    },
    "id": "EsRGDvamY4Gy",
    "outputId": "d762767b-817e-4b0e-c403-f8c0ac99cab6"
   },
   "outputs": [
    {
     "data": {
      "text/plain": [
       "(1, 784)"
      ]
     },
     "execution_count": 15,
     "metadata": {
      "tags": []
     },
     "output_type": "execute_result"
    }
   ],
   "source": [
    "train_images[0].reshape(1,-1).shape"
   ]
  },
  {
   "cell_type": "code",
   "execution_count": 16,
   "metadata": {
    "colab": {
     "autoexec": {
      "startup": false,
      "wait_interval": 0
     },
     "base_uri": "https://localhost:8080/",
     "height": 37
    },
    "colab_type": "code",
    "collapsed": true,
    "executionInfo": {
     "elapsed": 298,
     "status": "ok",
     "timestamp": 1531331457836,
     "user": {
      "displayName": "Dillon Quan",
      "photoUrl": "https://lh3.googleusercontent.com/a/default-user=s128",
      "userId": "105434119590275754132"
     },
     "user_tz": 420
    },
    "id": "ce93-hyrZJ24",
    "outputId": "cd16853e-3e6e-4691-e973-db97b27f8e30"
   },
   "outputs": [],
   "source": [
    "#declare the NN model to be certain architecture\n",
    "model = keras.Sequential()\n",
    "#add in the number of layers and activation function used\n",
    "model.add(tf.keras.layers.Flatten(input_shape = (28,28)))\n",
    "model.add(tf.keras.layers.Dense(128, activation = tf.nn.relu))\n",
    "model.add(tf.keras.layers.Dense(10, activation = tf.nn.softmax))\n",
    "\n",
    "#compiling the model after architecture is declared. Here we declare the optimizer, the type of loss function, and the metrics to evaluate the method\n",
    "model.compile(optimizer = 'adam', loss = 'sparse_categorical_crossentropy', metrics = ['accuracy'])"
   ]
  },
  {
   "cell_type": "code",
   "execution_count": 17,
   "metadata": {
    "colab": {
     "autoexec": {
      "startup": false,
      "wait_interval": 0
     },
     "base_uri": "https://localhost:8080/",
     "height": 224
    },
    "colab_type": "code",
    "executionInfo": {
     "elapsed": 47656,
     "status": "ok",
     "timestamp": 1531331508574,
     "user": {
      "displayName": "Dillon Quan",
      "photoUrl": "https://lh3.googleusercontent.com/a/default-user=s128",
      "userId": "105434119590275754132"
     },
     "user_tz": 420
    },
    "id": "DsmEqtvjbP2p",
    "outputId": "e03eef3a-e244-40f5-9b98-5e051c35d539"
   },
   "outputs": [
    {
     "name": "stdout",
     "output_type": "stream",
     "text": [
      "Epoch 1/5\n",
      "60000/60000 [==============================] - 10s 167us/step - loss: 0.5048 - acc: 0.8241\n",
      "Epoch 2/5\n",
      "60000/60000 [==============================] - 9s 156us/step - loss: 0.3783 - acc: 0.8639\n",
      "Epoch 3/5\n",
      "56672/60000 [===========================>..] - ETA: 0s - loss: 0.3391 - acc: 0.875560000/60000 [==============================] - 9s 152us/step - loss: 0.3385 - acc: 0.8758\n",
      "Epoch 4/5\n",
      "60000/60000 [==============================] - 9s 155us/step - loss: 0.3136 - acc: 0.8846\n",
      "Epoch 5/5\n",
      "60000/60000 [==============================] - 9s 153us/step - loss: 0.2957 - acc: 0.8903\n"
     ]
    },
    {
     "data": {
      "text/plain": [
       "<tensorflow.python.keras.callbacks.History at 0x7f0693dbccf8>"
      ]
     },
     "execution_count": 17,
     "metadata": {
      "tags": []
     },
     "output_type": "execute_result"
    }
   ],
   "source": [
    "# one epoch is equivalent to training all the data and updating the weights one full round\n",
    "model.fit(train_images, train_labels, epochs = 5)"
   ]
  },
  {
   "cell_type": "code",
   "execution_count": 18,
   "metadata": {
    "colab": {
     "autoexec": {
      "startup": false,
      "wait_interval": 0
     },
     "base_uri": "https://localhost:8080/",
     "height": 51
    },
    "colab_type": "code",
    "executionInfo": {
     "elapsed": 852,
     "status": "ok",
     "timestamp": 1531331513473,
     "user": {
      "displayName": "Dillon Quan",
      "photoUrl": "https://lh3.googleusercontent.com/a/default-user=s128",
      "userId": "105434119590275754132"
     },
     "user_tz": 420
    },
    "id": "IqxiRk45caFE",
    "outputId": "eeba77e2-d51b-4a3b-8573-4993dde9320e"
   },
   "outputs": [
    {
     "name": "stdout",
     "output_type": "stream",
     "text": [
      "10000/10000 [==============================] - 1s 57us/step\n",
      "Test Accuracy:  0.8722\n"
     ]
    }
   ],
   "source": [
    "#evaluating the model\n",
    "test_loss, test_acc = model.evaluate(test_images, test_labels)\n",
    "print('Test Accuracy: ',test_acc)"
   ]
  },
  {
   "cell_type": "code",
   "execution_count": 19,
   "metadata": {
    "colab": {
     "autoexec": {
      "startup": false,
      "wait_interval": 0
     },
     "base_uri": "https://localhost:8080/",
     "height": 37
    },
    "colab_type": "code",
    "collapsed": true,
    "executionInfo": {
     "elapsed": 600,
     "status": "ok",
     "timestamp": 1531331520020,
     "user": {
      "displayName": "Dillon Quan",
      "photoUrl": "https://lh3.googleusercontent.com/a/default-user=s128",
      "userId": "105434119590275754132"
     },
     "user_tz": 420
    },
    "id": "mLhVQjg6eORz",
    "outputId": "c161625f-2988-4af3-f59f-bff28ee3cdea"
   },
   "outputs": [],
   "source": [
    "#using the model to make predictions\n",
    "predictions =  model.predict(test_images)"
   ]
  },
  {
   "cell_type": "code",
   "execution_count": 20,
   "metadata": {
    "colab": {
     "autoexec": {
      "startup": false,
      "wait_interval": 0
     },
     "base_uri": "https://localhost:8080/",
     "height": 34
    },
    "colab_type": "code",
    "executionInfo": {
     "elapsed": 293,
     "status": "ok",
     "timestamp": 1531331521390,
     "user": {
      "displayName": "Dillon Quan",
      "photoUrl": "https://lh3.googleusercontent.com/a/default-user=s128",
      "userId": "105434119590275754132"
     },
     "user_tz": 420
    },
    "id": "MxrgIAvrgQ3q",
    "outputId": "08355903-8829-4e8d-ef48-4e20393b5ad7"
   },
   "outputs": [
    {
     "data": {
      "text/plain": [
       "(10000, 10)"
      ]
     },
     "execution_count": 20,
     "metadata": {
      "tags": []
     },
     "output_type": "execute_result"
    }
   ],
   "source": [
    "predictions.shape"
   ]
  },
  {
   "cell_type": "code",
   "execution_count": 21,
   "metadata": {
    "colab": {
     "autoexec": {
      "startup": false,
      "wait_interval": 0
     },
     "base_uri": "https://localhost:8080/",
     "height": 68
    },
    "colab_type": "code",
    "executionInfo": {
     "elapsed": 390,
     "status": "ok",
     "timestamp": 1531331524900,
     "user": {
      "displayName": "Dillon Quan",
      "photoUrl": "https://lh3.googleusercontent.com/a/default-user=s128",
      "userId": "105434119590275754132"
     },
     "user_tz": 420
    },
    "id": "PYphzumHgSnb",
    "outputId": "3829a658-da18-48a3-db32-0508bb0554b3"
   },
   "outputs": [
    {
     "data": {
      "text/plain": [
       "(array([3.33379433e-07, 4.13865742e-08, 1.33255584e-09, 1.13783996e-10,\n",
       "        2.26464181e-08, 2.34892331e-02, 1.43957422e-07, 1.31700560e-02,\n",
       "        3.06223337e-05, 9.63309526e-01], dtype=float32), 9)"
      ]
     },
     "execution_count": 21,
     "metadata": {
      "tags": []
     },
     "output_type": "execute_result"
    }
   ],
   "source": [
    "predictions[0], np.argmax(predictions[0])"
   ]
  },
  {
   "cell_type": "code",
   "execution_count": 22,
   "metadata": {
    "colab": {
     "autoexec": {
      "startup": false,
      "wait_interval": 0
     },
     "base_uri": "https://localhost:8080/",
     "height": 589
    },
    "colab_type": "code",
    "executionInfo": {
     "elapsed": 1908,
     "status": "ok",
     "timestamp": 1531331532762,
     "user": {
      "displayName": "Dillon Quan",
      "photoUrl": "https://lh3.googleusercontent.com/a/default-user=s128",
      "userId": "105434119590275754132"
     },
     "user_tz": 420
    },
    "id": "7iptekF_gVOb",
    "outputId": "ccf3738f-0ed5-43c5-8630-7fe6f7c05936"
   },
   "outputs": [
    {
     "data": {
      "image/png": "[encoded data removed]",
      "text/plain": [
       "<matplotlib.figure.Figure at 0x7f0693251e10>"
      ]
     },
     "metadata": {
      "tags": []
     },
     "output_type": "display_data"
    }
   ],
   "source": [
    "## plotting the first 25 test images, their predicted labels and true labels\n",
    "plt.figure(figsize=(10,10))\n",
    "for i in range(25):\n",
    "  plt.subplot(5,5,i+1)\n",
    "  plt.xticks([])\n",
    "  plt.yticks([])\n",
    "  plt.imshow(test_images[i])\n",
    "  predicted_label = np.argmax(predictions[i])\n",
    "  true_label = test_labels[i]\n",
    "  if predicted_label == true_label:\n",
    "    color = 'green'\n",
    "  else:\n",
    "    color = 'red'\n",
    "  plt.xlabel(\"{} ({})\".format(class_names[predicted_label], \n",
    "                                  class_names[true_label]),\n",
    "                                  color=color)"
   ]
  },
  {
   "cell_type": "markdown",
   "metadata": {},
   "source": [
    "### Implementing the model without the Flatten layer\n",
    "\n",
    "The following code is my own attempt to see that the Flatten Layer can be replaced by specifying the argument input_shape to the number of features each observation contains."
   ]
  },
  {
   "cell_type": "code",
   "execution_count": 39,
   "metadata": {
    "colab": {
     "autoexec": {
      "startup": false,
      "wait_interval": 0
     },
     "base_uri": "https://localhost:8080/",
     "height": 17
    },
    "colab_type": "code",
    "collapsed": true,
    "executionInfo": {
     "elapsed": 816,
     "status": "ok",
     "timestamp": 1531332723934,
     "user": {
      "displayName": "Dillon Quan",
      "photoUrl": "https://lh3.googleusercontent.com/a/default-user=s128",
      "userId": "105434119590275754132"
     },
     "user_tz": 420
    },
    "id": "xXD-Ud5JhWLp",
    "outputId": "082b048a-5f44-4b2f-b083-133669081c1b"
   },
   "outputs": [],
   "source": [
    "#reshaping the data to try to get rid of the flatten layer\n",
    "train = np.empty([60000, 784])\n",
    "for i in range(len(train_images)):\n",
    "    train[i] = (train_images[i].reshape(1,-1))"
   ]
  },
  {
   "cell_type": "code",
   "execution_count": 40,
   "metadata": {
    "colab": {
     "autoexec": {
      "startup": false,
      "wait_interval": 0
     },
     "base_uri": "https://localhost:8080/",
     "height": 37
    },
    "colab_type": "code",
    "collapsed": true,
    "executionInfo": {
     "elapsed": 293,
     "status": "ok",
     "timestamp": 1531332750918,
     "user": {
      "displayName": "Dillon Quan",
      "photoUrl": "https://lh3.googleusercontent.com/a/default-user=s128",
      "userId": "105434119590275754132"
     },
     "user_tz": 420
    },
    "id": "azU_Vgg7h2Mu",
    "outputId": "3e4415ed-ee0d-4bc2-9518-96ea4bf1401b"
   },
   "outputs": [],
   "source": [
    "#declare the NN model to be certain architecture\n",
    "model = keras.Sequential()\n",
    "#add in the number of layers and activation function used\n",
    "model.add(tf.keras.layers.Dense(128, activation = tf.nn.relu, input_shape = (train.shape[1],) )) \n",
    "# this most likely does not work because each data point is a 2d matrix\n",
    "#it will only work if i make the features 28*28 per row and then the train shape will work\n",
    "model.add(tf.keras.layers.Dense(10, activation = tf.nn.softmax))\n",
    "\n",
    "#compiling the model after architecture is declared. Here we declare the optimizer, the type of loss function, and the metrics to evaluate the method\n",
    "model.compile(optimizer = 'adam', loss = 'sparse_categorical_crossentropy', metrics = ['accuracy'])"
   ]
  },
  {
   "cell_type": "code",
   "execution_count": 41,
   "metadata": {
    "colab": {
     "autoexec": {
      "startup": false,
      "wait_interval": 0
     },
     "base_uri": "https://localhost:8080/",
     "height": 224
    },
    "colab_type": "code",
    "executionInfo": {
     "elapsed": 45517,
     "status": "ok",
     "timestamp": 1531332801180,
     "user": {
      "displayName": "Dillon Quan",
      "photoUrl": "https://lh3.googleusercontent.com/a/default-user=s128",
      "userId": "105434119590275754132"
     },
     "user_tz": 420
    },
    "id": "756rIEi4iHIk",
    "outputId": "885c3b18-4321-47c3-f570-fa51a4e33755"
   },
   "outputs": [
    {
     "name": "stdout",
     "output_type": "stream",
     "text": [
      "Epoch 1/5\n",
      "60000/60000 [==============================] - 9s 151us/step - loss: 0.5048 - acc: 0.8237\n",
      "Epoch 2/5\n",
      "60000/60000 [==============================] - 9s 151us/step - loss: 0.3776 - acc: 0.8644\n",
      "Epoch 3/5\n",
      "59904/60000 [============================>.] - ETA: 0s - loss: 0.3411 - acc: 0.875760000/60000 [==============================] - 9s 149us/step - loss: 0.3409 - acc: 0.8758\n",
      "Epoch 4/5\n",
      "60000/60000 [==============================] - 9s 149us/step - loss: 0.3160 - acc: 0.8846\n",
      "Epoch 5/5\n",
      "60000/60000 [==============================] - 9s 148us/step - loss: 0.2961 - acc: 0.8900\n"
     ]
    },
    {
     "data": {
      "text/plain": [
       "<tensorflow.python.keras.callbacks.History at 0x7f06968ad828>"
      ]
     },
     "execution_count": 41,
     "metadata": {
      "tags": []
     },
     "output_type": "execute_result"
    }
   ],
   "source": [
    "# one epoch is equivalent to training all the data and updating the weights one full round\n",
    "model.fit(train, train_labels, epochs = 5)"
   ]
  },
  {
   "cell_type": "code",
   "execution_count": 46,
   "metadata": {
    "colab": {
     "autoexec": {
      "startup": false,
      "wait_interval": 0
     },
     "base_uri": "https://localhost:8080/",
     "height": 51
    },
    "colab_type": "code",
    "executionInfo": {
     "elapsed": 855,
     "status": "ok",
     "timestamp": 1531332969114,
     "user": {
      "displayName": "Dillon Quan",
      "photoUrl": "https://lh3.googleusercontent.com/a/default-user=s128",
      "userId": "105434119590275754132"
     },
     "user_tz": 420
    },
    "id": "ekaqmqowiIUb",
    "outputId": "44bf7afc-d1d9-4dba-a4fa-7efff5f71c0f"
   },
   "outputs": [
    {
     "name": "stdout",
     "output_type": "stream",
     "text": [
      "10000/10000 [==============================] - 0s 48us/step\n",
      "Test Accuracy:  0.8746\n"
     ]
    }
   ],
   "source": [
    "#changing the test data structure\n",
    "test = np.empty([10000, 784])\n",
    "for i in range(len(test_images)):\n",
    "   test[i] = (test_images[i].reshape(1,-1))\n",
    "\n",
    "#evaluating the model\n",
    "test_loss, test_acc = model.evaluate(test, test_labels)\n",
    "print('Test Accuracy: ',test_acc)"
   ]
  },
  {
   "cell_type": "code",
   "execution_count": 47,
   "metadata": {
    "colab": {
     "autoexec": {
      "startup": false,
      "wait_interval": 0
     },
     "base_uri": "https://localhost:8080/",
     "height": 589
    },
    "colab_type": "code",
    "executionInfo": {
     "elapsed": 1681,
     "status": "ok",
     "timestamp": 1531332991241,
     "user": {
      "displayName": "Dillon Quan",
      "photoUrl": "https://lh3.googleusercontent.com/a/default-user=s128",
      "userId": "105434119590275754132"
     },
     "user_tz": 420
    },
    "id": "i_cOjY5vi66y",
    "outputId": "49cef491-6eab-420a-d2fc-db80d11df1a3"
   },
   "outputs": [
    {
     "data": {
      "image/png": "[encoded data removed]",
      "text/plain": [
       "<matplotlib.figure.Figure at 0x7f067358f8d0>"
      ]
     },
     "metadata": {
      "tags": []
     },
     "output_type": "display_data"
    }
   ],
   "source": [
    "## plotting the first 25 test images, their predicted labels and true labels\n",
    "plt.figure(figsize=(10,10))\n",
    "for i in range(25):\n",
    "  plt.subplot(5,5,i+1)\n",
    "  plt.xticks([])\n",
    "  plt.yticks([])\n",
    "  plt.imshow(test_images[i])\n",
    "  predicted_label = np.argmax(predictions[i])\n",
    "  true_label = test_labels[i]\n",
    "  if predicted_label == true_label:\n",
    "    color = 'green'\n",
    "  else:\n",
    "    color = 'red'\n",
    "  plt.xlabel(\"{} ({})\".format(class_names[predicted_label], \n",
    "                                  class_names[true_label]),\n",
    "                                  color=color)"
   ]
  },
  {
   "cell_type": "code",
   "execution_count": 0,
   "metadata": {
    "colab": {
     "autoexec": {
      "startup": false,
      "wait_interval": 0
     }
    },
    "colab_type": "code",
    "collapsed": true,
    "id": "CuZ_1nrPjhqO"
   },
   "outputs": [],
   "source": []
  }
 ],
 "metadata": {
  "accelerator": "GPU",
  "colab": {
   "collapsed_sections": [],
   "default_view": {},
   "name": "Basic Classification Tutorial.ipynb",
   "provenance": [],
   "version": "0.3.2",
   "views": {}
  },
  "kernelspec": {
   "display_name": "Python 3",
   "language": "python",
   "name": "python3"
  },
  "language_info": {
   "codemirror_mode": {
    "name": "ipython",
    "version": 3
   },
   "file_extension": ".py",
   "mimetype": "text/x-python",
   "name": "python",
   "nbconvert_exporter": "python",
   "pygments_lexer": "ipython3",
   "version": "3.6.1"
  }
 },
 "nbformat": 4,
 "nbformat_minor": 1
}
